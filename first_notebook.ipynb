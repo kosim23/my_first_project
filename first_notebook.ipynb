{
 "cells": [
  {
   "cell_type": "code",
   "execution_count": 1,
   "id": "f421a8f2-5079-4ce7-876e-dcf46244b7ff",
   "metadata": {},
   "outputs": [
    {
     "name": "stdout",
     "output_type": "stream",
     "text": [
      "Hello,World\n"
     ]
    }
   ],
   "source": [
    "print('Hello,World')"
   ]
  },
  {
   "cell_type": "code",
   "execution_count": 1,
   "id": "53f10906-d1f1-4a2e-b89b-fe3dc31a3a83",
   "metadata": {},
   "outputs": [
    {
     "name": "stdout",
     "output_type": "stream",
     "text": [
      "GitHub тренировка шаг 1\n",
      "GitHub тренировка шаг 2\n",
      "GitHub тренировка шаг 3\n",
      "GitHub тренировка шаг 4\n",
      "GitHub тренировка шаг 5\n"
     ]
    }
   ],
   "source": [
    "for i in range(5):\n",
    "    print(f\"GitHub тренировка шаг {i+1}\")\n"
   ]
  },
  {
   "cell_type": "code",
   "execution_count": 1,
   "id": "dc629b8d-d5d6-4062-8796-0d3e915c2636",
   "metadata": {},
   "outputs": [],
   "source": [
    "Qosimbek = [\"safiya\",\"aisha\",\"osiy\"]\n",
    "Munavvar = [\"muhammadsodiq\",\"samiya\"]\n",
    "Iroda = [\"mubina\",\"muslima\",\"humayro\"]"
   ]
  },
  {
   "cell_type": "code",
   "execution_count": 3,
   "id": "b8f87b07-3ca0-4be5-839d-241e2d7ca464",
   "metadata": {},
   "outputs": [
    {
     "name": "stdout",
     "output_type": "stream",
     "text": [
      "['safiya', 'aisha', 'osiy']\n",
      "['muhammadsodiq', 'samiya']\n",
      "['mubina', 'muslima', 'humayro']\n"
     ]
    }
   ],
   "source": [
    "print(Qosimbek)\n",
    "print(Munavvar)\n",
    "print(Iroda)"
   ]
  },
  {
   "cell_type": "code",
   "execution_count": null,
   "id": "b2fa8ef5-5eaa-4563-a2a8-43a48800f3f0",
   "metadata": {},
   "outputs": [],
   "source": []
  }
 ],
 "metadata": {
  "kernelspec": {
   "display_name": "Python 3 (ipykernel)",
   "language": "python",
   "name": "python3"
  },
  "language_info": {
   "codemirror_mode": {
    "name": "ipython",
    "version": 3
   },
   "file_extension": ".py",
   "mimetype": "text/x-python",
   "name": "python",
   "nbconvert_exporter": "python",
   "pygments_lexer": "ipython3",
   "version": "3.12.4"
  }
 },
 "nbformat": 4,
 "nbformat_minor": 5
}
